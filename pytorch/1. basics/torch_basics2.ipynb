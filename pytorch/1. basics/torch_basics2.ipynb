{
  "nbformat": 4,
  "nbformat_minor": 0,
  "metadata": {
    "colab": {
      "provenance": [],
      "gpuType": "V100"
    },
    "kernelspec": {
      "name": "python3",
      "display_name": "Python 3"
    },
    "language_info": {
      "name": "python"
    },
    "accelerator": "GPU",
    "gpuClass": "standard"
  },
  "cells": [
    {
      "cell_type": "markdown",
      "source": [
        "### Graph\n",
        "\n",
        "Chain rule\n",
        "\n",
        "$\\begin{aligned} \\frac{\\partial y}{\\partial w} &=\\frac{\\partial y}{\\partial a} \\frac{\\partial a}{\\partial w}+\\frac{\\partial y}{\\partial b} \\frac{\\partial b}{\\partial w} \\ &=b  1+a  1 \\ &=b+a \\ &=(w+1)+(x+w) \\ &=2  w+x+1 \\ &=2  1+2+1=5\\end{aligned}$"
      ],
      "metadata": {
        "id": "d2ho9nkRDUmi"
      }
    },
    {
      "cell_type": "code",
      "execution_count": 2,
      "metadata": {
        "colab": {
          "base_uri": "https://localhost:8080/"
        },
        "id": "jMzTdZrXDLd9",
        "outputId": "2addaf9b-92b0-43ff-995a-caf065afa72c"
      },
      "outputs": [
        {
          "output_type": "stream",
          "name": "stdout",
          "text": [
            "tensor([5.])\n"
          ]
        }
      ],
      "source": [
        "import torch\n",
        "w = torch.tensor([1.], requires_grad=True)\n",
        "x = torch.tensor([2.], requires_grad=True)\n",
        "# y=(x+w)*(w+1)\n",
        "a = torch.add(w,x)\n",
        "b = torch.add(w,1)\n",
        "y = torch.mul(a,b)\n",
        "# differentiate\n",
        "y.backward()\n",
        "print(w.grad)"
      ]
    },
    {
      "cell_type": "code",
      "source": [
        "print(\"is_leaf:\\n\", w.is_leaf, x.is_leaf, a.is_leaf, b.is_leaf, y.is_leaf)\n",
        "print(\"gradient:\\n\", w.grad, x.grad, a.grad, b.grad, y.grad)"
      ],
      "metadata": {
        "colab": {
          "base_uri": "https://localhost:8080/"
        },
        "id": "eyi0JMysFLsA",
        "outputId": "444a4773-fe23-4d97-d0a2-446f1cf1e6c8"
      },
      "execution_count": 4,
      "outputs": [
        {
          "output_type": "stream",
          "name": "stdout",
          "text": [
            "is_leaf:\n",
            " True True False False False\n",
            "gradient:\n",
            " tensor([5.]) tensor([2.]) None None None\n"
          ]
        },
        {
          "output_type": "stream",
          "name": "stderr",
          "text": [
            "<ipython-input-4-f43cacbedf8f>:2: UserWarning: The .grad attribute of a Tensor that is not a leaf Tensor is being accessed. Its .grad attribute won't be populated during autograd.backward(). If you indeed want the .grad field to be populated for a non-leaf Tensor, use .retain_grad() on the non-leaf Tensor. If you access the non-leaf Tensor by mistake, make sure you access the leaf Tensor instead. See github.com/pytorch/pytorch/pull/30531 for more informations. (Triggered internally at aten/src/ATen/core/TensorBody.h:486.)\n",
            "  print(\"gradient:\\n\", w.grad, x.grad, a.grad, b.grad, y.grad)\n"
          ]
        }
      ]
    },
    {
      "cell_type": "markdown",
      "source": [
        "### autograd"
      ],
      "metadata": {
        "id": "iNYCwhkyGHTd"
      }
    },
    {
      "cell_type": "code",
      "source": [
        "# auto gradient descent\n",
        "# torch.autograd.backward(tensors, grad_tensors=None, retain_graph=None, create_graph=False, grad_variables=None)\n",
        "# tensors: tensor to be derivated\n",
        "# grad_tensors = give weight if more than 1 tensor\n",
        "w = torch.tensor([1.], requires_grad=True)\n",
        "x = torch.tensor([2.], requires_grad=True)\n",
        "# y=(x+w)*(w+1)\n",
        "a = torch.add(w,x)\n",
        "b = torch.add(w,1)\n",
        "y = torch.mul(a,b)\n",
        "y.backward(retain_graph=True)\n",
        "print(w.grad)\n",
        "y.backward()\n",
        "print(w.grad)"
      ],
      "metadata": {
        "colab": {
          "base_uri": "https://localhost:8080/"
        },
        "id": "Ha1-3mViFyrS",
        "outputId": "66dce016-4877-4948-97c5-d68df496de5f"
      },
      "execution_count": 7,
      "outputs": [
        {
          "output_type": "stream",
          "name": "stdout",
          "text": [
            "tensor([5.])\n",
            "tensor([10.])\n"
          ]
        }
      ]
    },
    {
      "cell_type": "code",
      "source": [
        "# grad_tensors\n",
        "w = torch.tensor([1.], requires_grad=True)\n",
        "x = torch.tensor([2.], requires_grad=True)\n",
        "# y=(x+w)*(w+1)\n",
        "a = torch.add(w,x)\n",
        "b = torch.add(w,1)\n",
        "y_0 = torch.mul(a,b)\n",
        "y_1 = torch.add(a,b)\n",
        "loss = torch.cat([y_0,y_1],dim=0) # [y_0,y_1]\n",
        "grad_tensors = torch.tensor([1.,2.])\n",
        "loss.backward(gradient=grad_tensors)\n",
        "print(w.grad)"
      ],
      "metadata": {
        "colab": {
          "base_uri": "https://localhost:8080/"
        },
        "id": "9x74KlAFHwu-",
        "outputId": "3599e914-0d6e-4542-8cd8-10c7dee89a4c"
      },
      "execution_count": 8,
      "outputs": [
        {
          "output_type": "stream",
          "name": "stdout",
          "text": [
            "tensor([9.])\n"
          ]
        }
      ]
    },
    {
      "cell_type": "code",
      "source": [
        "# n rank derivation\n",
        "# torch.autograd.grad(outputs, inputs, grad_outputs=None, retain_graph=None, create_graph=False, only_inputs=True, allow_unused=False)\n",
        "# outputs: tensor to be derivated like loss\n",
        "# input: tensor need gradient\n",
        "x = torch.tensor([3.],requires_grad=True)\n",
        "y = torch.pow(x,2)\n",
        "grad_1 = torch.autograd.grad(y,x,create_graph=True)\n",
        "print(grad_1)\n",
        "grad_2 = torch.autograd.grad(grad_1[0],x)\n",
        "print(grad_2)"
      ],
      "metadata": {
        "colab": {
          "base_uri": "https://localhost:8080/"
        },
        "id": "lWT3slMhI0yW",
        "outputId": "a08c0d5b-000b-4ea3-8a2b-87cb781ca602"
      },
      "execution_count": 9,
      "outputs": [
        {
          "output_type": "stream",
          "name": "stdout",
          "text": [
            "(tensor([6.], grad_fn=<MulBackward0>),)\n",
            "(tensor([2.]),)\n"
          ]
        }
      ]
    },
    {
      "cell_type": "code",
      "source": [
        "# clear the gradient for update the parameter\n",
        "# w.grad.zero_()\n",
        "for i in range(4):\n",
        "    a = torch.add(w, x)\n",
        "    b = torch.add(w, 1)\n",
        "    y = torch.mul(a, b)\n",
        "    y.backward()\n",
        "    print(w.grad)\n",
        "    w.grad.zero_()"
      ],
      "metadata": {
        "colab": {
          "base_uri": "https://localhost:8080/"
        },
        "id": "NDt4cCxwKPno",
        "outputId": "e1d30143-64e5-42cf-9bc7-418b83559d4a"
      },
      "execution_count": 11,
      "outputs": [
        {
          "output_type": "stream",
          "name": "stdout",
          "text": [
            "tensor([6.])\n",
            "tensor([6.])\n",
            "tensor([6.])\n",
            "tensor([6.])\n"
          ]
        }
      ]
    },
    {
      "cell_type": "code",
      "source": [
        "# inplace\n",
        "# the memory address of origin data and varied data is same\n",
        "print(\"not inplace operation\")\n",
        "a = torch.ones((1, ))\n",
        "print(id(a), a)\n",
        "# not inplace \n",
        "a = a + torch.ones((1, ))\n",
        "print(id(a), a)\n",
        "\n",
        "print(\"inplace operation\")\n",
        "a = torch.ones((1, ))\n",
        "print(id(a), a)\n",
        "# inplace \n",
        "a += torch.ones((1, ))\n",
        "print(id(a), a)"
      ],
      "metadata": {
        "colab": {
          "base_uri": "https://localhost:8080/"
        },
        "id": "kCya6JzxKqcc",
        "outputId": "ed843a57-5303-4e81-909b-aa90a9228225"
      },
      "execution_count": 12,
      "outputs": [
        {
          "output_type": "stream",
          "name": "stdout",
          "text": [
            "not inplace operation\n",
            "139730015479632 tensor([1.])\n",
            "139729458835232 tensor([2.])\n",
            "inplace operation\n",
            "139729895285488 tensor([1.])\n",
            "139729895285488 tensor([2.])\n"
          ]
        }
      ]
    },
    {
      "cell_type": "markdown",
      "source": [
        "### Logistic regression"
      ],
      "metadata": {
        "id": "hZYdGrvwLgCs"
      }
    },
    {
      "cell_type": "code",
      "source": [
        "import torch\n",
        "import torch.nn as nn\n",
        "import matplotlib.pyplot as plt\n",
        "import numpy as np\n",
        "# step (1/5) data processing\n",
        "sample_nums = 100\n",
        "mean_value = 1.7\n",
        "bias = 1\n",
        "n_data = torch.ones(sample_nums, 2)\n",
        "## generate features\n",
        "x0 = torch.normal(mean_value * n_data, 1) + bias\n",
        "x1 = torch.normal(-mean_value * n_data, 1) + bias\n",
        "## generate labels\n",
        "y0 = torch.zeros(sample_nums)\n",
        "y1 = torch.ones(sample_nums)\n",
        "## \n",
        "train_x = torch.cat((x0,x1),0)\n",
        "train_y = torch.cat((y0,y1),0)\n",
        "\n",
        "# step (2/5) select model\n",
        "class LogisticRegression(nn.Module):\n",
        "  def __init__(self):\n",
        "    super(LogisticRegression, self).__init__()\n",
        "    self.features = nn.Linear(2, 1)\n",
        "    self.sigmoid = nn.Sigmoid()\n",
        "\n",
        "  def forward(self,x):\n",
        "    x = self.features(x)\n",
        "    x = self.sigmoid(x)\n",
        "    return x\n",
        "\n",
        "lr_net = LogisticRegression()\n",
        "# step (3/5) loss function\n",
        "criterion = nn.BCELoss()\n",
        "\n",
        "# step (4/5) optimizer\n",
        "lr = 0.01\n",
        "optimizer = torch.optim.SGD(lr_net.parameters(), lr=lr, momentum=0.9)\n",
        "\n",
        "# step (5/5) training\n",
        "epochs=1000\n",
        "for epoch in range(epochs):\n",
        "  # forward propagation\n",
        "  y_pred = lr_net(train_x)\n",
        "  # compute loss\n",
        "  loss = criterion(y_pred.squeeze(), train_y)\n",
        "  # backpropagation\n",
        "  loss.backward()\n",
        "  optimizer.step()\n",
        "  optimizer.zero_grad()\n",
        "\n",
        "  if epoch %100 ==0:\n",
        "    mask = y_pred.ge(0.5).float().squeeze()\n",
        "    correct = (mask == train_y).sum()\n",
        "    acc = correct.item()/train_y.size(0)\n",
        "    print(f\"Epoch [{epoch+1}/{epochs}], Loss: {loss.item():.4f}\")\n"
      ],
      "metadata": {
        "colab": {
          "base_uri": "https://localhost:8080/"
        },
        "id": "pFO_hI3mLdfT",
        "outputId": "072b6164-01af-47ee-f904-e9ee6b9d6b07"
      },
      "execution_count": 23,
      "outputs": [
        {
          "output_type": "stream",
          "name": "stdout",
          "text": [
            "Epoch [1/1000], Loss: 1.1993\n",
            "Epoch [101/1000], Loss: 0.1142\n",
            "Epoch [201/1000], Loss: 0.0777\n",
            "Epoch [301/1000], Loss: 0.0620\n",
            "Epoch [401/1000], Loss: 0.0535\n",
            "Epoch [501/1000], Loss: 0.0480\n",
            "Epoch [601/1000], Loss: 0.0441\n",
            "Epoch [701/1000], Loss: 0.0412\n",
            "Epoch [801/1000], Loss: 0.0389\n",
            "Epoch [901/1000], Loss: 0.0371\n"
          ]
        }
      ]
    },
    {
      "cell_type": "code",
      "source": [
        "plt.scatter(x0.data.numpy()[:, 0], x0.data.numpy()[:, 1], c='r', label='class 0')\n",
        "plt.scatter(x1.data.numpy()[:, 0], x1.data.numpy()[:, 1], c='b', label='class 1')\n",
        "\n",
        "w0, w1 = lr_net.features.weight[0]\n",
        "w0, w1 = float(w0.item()), float(w1.item())\n",
        "plot_b = float(lr_net.features.bias[0].item())\n",
        "plot_x = np.arange(-6, 6, 0.1)\n",
        "plot_y = (-w0 * plot_x - plot_b) / w1\n",
        "\n",
        "plt.xlim(-5, 7)\n",
        "plt.ylim(-7, 7)\n",
        "plt.plot(plot_x, plot_y)\n",
        "\n",
        "plt.text(-5, 5, 'Loss=%.4f' % loss.data.numpy(), fontdict={'size': 20, 'color': 'red'})\n",
        "plt.title(\"epoch: {}\\nw0:{:.2f} w1:{:.2f} b: {:.2f} accuracy:{:.2%}\".format(epoch, w0, w1, plot_b, acc))\n",
        "plt.legend()\n",
        "# plt.savefig(str(iteration / 20)+\".png\")\n",
        "plt.show()"
      ],
      "metadata": {
        "colab": {
          "base_uri": "https://localhost:8080/",
          "height": 473
        },
        "id": "u89W6S0wVEgm",
        "outputId": "6c29bc2a-269a-4388-8b8c-2b7f3804b5aa"
      },
      "execution_count": 21,
      "outputs": [
        {
          "output_type": "display_data",
          "data": {
            "text/plain": [
              "<Figure size 640x480 with 1 Axes>"
            ],
            "image/png": "[encoded data removed]"
          },
          "metadata": {}
        }
      ]
    },
    {
      "cell_type": "code",
      "source": [],
      "metadata": {
        "id": "XIwcH3ELXFvG"
      },
      "execution_count": null,
      "outputs": []
    }
  ]
}