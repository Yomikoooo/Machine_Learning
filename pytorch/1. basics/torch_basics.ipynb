{
  "nbformat": 4,
  "nbformat_minor": 0,
  "metadata": {
    "colab": {
      "provenance": [],
      "gpuType": "V100"
    },
    "kernelspec": {
      "name": "python3",
      "display_name": "Python 3"
    },
    "language_info": {
      "name": "python"
    },
    "accelerator": "GPU",
    "gpuClass": "standard"
  },
  "cells": [
    {
      "cell_type": "markdown",
      "source": [
        "# PyTorch basics"
      ],
      "metadata": {
        "id": "oBYDZ9e6RIn7"
      }
    },
    {
      "cell_type": "markdown",
      "source": [
        "### package"
      ],
      "metadata": {
        "id": "dd0Nn_vOSw6R"
      }
    },
    {
      "cell_type": "code",
      "source": [
        "import os\n",
        "import torch\n",
        "import numpy as np"
      ],
      "metadata": {
        "id": "JZ8N8f6MRqOX"
      },
      "execution_count": 2,
      "outputs": []
    },
    {
      "cell_type": "code",
      "source": [
        "torch.cuda.is_available()\n",
        "!nvidia-smi"
      ],
      "metadata": {
        "colab": {
          "base_uri": "https://localhost:8080/"
        },
        "id": "CbQ3dlP4Uelm",
        "outputId": "c0adee82-ca4c-4477-ca46-610c3fbf3bbd"
      },
      "execution_count": 4,
      "outputs": [
        {
          "output_type": "stream",
          "name": "stdout",
          "text": [
            "Mon May 22 11:18:59 2023       \n",
            "+-----------------------------------------------------------------------------+\n",
            "| NVIDIA-SMI 525.85.12    Driver Version: 525.85.12    CUDA Version: 12.0     |\n",
            "|-------------------------------+----------------------+----------------------+\n",
            "| GPU  Name        Persistence-M| Bus-Id        Disp.A | Volatile Uncorr. ECC |\n",
            "| Fan  Temp  Perf  Pwr:Usage/Cap|         Memory-Usage | GPU-Util  Compute M. |\n",
            "|                               |                      |               MIG M. |\n",
            "|===============================+======================+======================|\n",
            "|   0  Tesla V100-SXM2...  Off  | 00000000:00:04.0 Off |                    0 |\n",
            "| N/A   33C    P0    24W / 300W |      2MiB / 16384MiB |      0%      Default |\n",
            "|                               |                      |                  N/A |\n",
            "+-------------------------------+----------------------+----------------------+\n",
            "                                                                               \n",
            "+-----------------------------------------------------------------------------+\n",
            "| Processes:                                                                  |\n",
            "|  GPU   GI   CI        PID   Type   Process name                  GPU Memory |\n",
            "|        ID   ID                                                   Usage      |\n",
            "|=============================================================================|\n",
            "|  No running processes found                                                 |\n",
            "+-----------------------------------------------------------------------------+\n"
          ]
        }
      ]
    },
    {
      "cell_type": "markdown",
      "source": [
        "## Tensor\n"
      ],
      "metadata": {
        "id": "tM-ZlWp1RC69"
      }
    },
    {
      "cell_type": "markdown",
      "source": [
        "### create tensor directly\n"
      ],
      "metadata": {
        "id": "IPA0PAV9VhyU"
      }
    },
    {
      "cell_type": "code",
      "execution_count": 5,
      "metadata": {
        "colab": {
          "base_uri": "https://localhost:8080/"
        },
        "id": "RgNFxO0ZNyu7",
        "outputId": "5b7de517-0a70-49a2-bc5b-8c46ae4756d1"
      },
      "outputs": [
        {
          "output_type": "stream",
          "name": "stdout",
          "text": [
            "float64\n",
            "[[1. 1. 1.]\n",
            " [1. 1. 1.]\n",
            " [1. 1. 1.]]\n",
            "tensor([[1., 1., 1.],\n",
            "        [1., 1., 1.],\n",
            "        [1., 1., 1.]], dtype=torch.float64)\n",
            "tensor([[1., 1., 1.],\n",
            "        [1., 1., 1.],\n",
            "        [1., 1., 1.]], dtype=torch.float64)\n",
            "tensor([[1., 1., 1.],\n",
            "        [1., 1., 1.],\n",
            "        [1., 1., 1.]], dtype=torch.float64)\n",
            "tensor([[2., 1., 1.],\n",
            "        [1., 1., 1.],\n",
            "        [1., 1., 1.]], dtype=torch.float64)\n"
          ]
        }
      ],
      "source": [
        "# create tensor\n",
        "# torch.tensor(data, dtype=None, device=None, requires_grad=False, pin_memory=False)\n",
        "arr = np.ones((3,3))\n",
        "print(arr.dtype)\n",
        "print(arr)\n",
        "t1 = torch.tensor(arr)\n",
        "print(t1)\n",
        "\n",
        "t2 = torch.from_numpy(arr)\n",
        "print(t2)\n",
        "\n",
        "arr[0,0] = 2\n",
        "print(t1)\n",
        "print(t2)"
      ]
    },
    {
      "cell_type": "code",
      "source": [
        "# create tensor with 0s\n",
        "# torch.zeros(*size, out=None, dtype=None, layout=torch.strided, device=None, requires_grad=False)\n",
        "out_z=torch.tensor([1])\n",
        "z=torch.zeros((3,3),out=out_z)\n",
        "print(id(z),id(out_z), id(z)==id(out_z))\n",
        "print(torch.ones(3,3))"
      ],
      "metadata": {
        "colab": {
          "base_uri": "https://localhost:8080/"
        },
        "id": "wrXXZLzOS4eK",
        "outputId": "707b5293-9a3f-4d62-f525-580ac5df8d6d"
      },
      "execution_count": 6,
      "outputs": [
        {
          "output_type": "stream",
          "name": "stdout",
          "text": [
            "139958660600496 139958660600496 True\n",
            "tensor([[1., 1., 1.],\n",
            "        [1., 1., 1.],\n",
            "        [1., 1., 1.]])\n"
          ]
        }
      ]
    },
    {
      "cell_type": "code",
      "source": [
        "# create 0 tensor by scale\n",
        "# torch.zeros_like(input, dtype=None, layout=None, device=None, requires_grad=False, memory_format=torch.preserve_format)\n",
        "ipt=torch.tensor([[1,2,3,4],[2,3,4,5],[3,4,5,6]])\n",
        "torch.zeros_like(ipt)"
      ],
      "metadata": {
        "colab": {
          "base_uri": "https://localhost:8080/"
        },
        "id": "JXSaTPZtTu2I",
        "outputId": "fa652539-480e-4d57-c008-dc5ae5225d5d"
      },
      "execution_count": 7,
      "outputs": [
        {
          "output_type": "execute_result",
          "data": {
            "text/plain": [
              "tensor([[0, 0, 0, 0],\n",
              "        [0, 0, 0, 0],\n",
              "        [0, 0, 0, 0]])"
            ]
          },
          "metadata": {},
          "execution_count": 7
        }
      ]
    },
    {
      "cell_type": "code",
      "source": [
        "# torch.full(size, fill_value, out=None, dtype=None, layout=torch.strided, device=None, requires_grad=False)\n",
        "size = (3,3,3)\n",
        "full_value=6\n",
        "f = torch.tensor(size)\n",
        "print(torch.full(size,full_value))\n",
        "print(torch.full_like(f,full_value))"
      ],
      "metadata": {
        "colab": {
          "base_uri": "https://localhost:8080/"
        },
        "id": "grVO0EnWV2NQ",
        "outputId": "7c259f53-65e9-46af-efab-91c4e4ddb66c"
      },
      "execution_count": 8,
      "outputs": [
        {
          "output_type": "stream",
          "name": "stdout",
          "text": [
            "tensor([[[6, 6, 6],\n",
            "         [6, 6, 6],\n",
            "         [6, 6, 6]],\n",
            "\n",
            "        [[6, 6, 6],\n",
            "         [6, 6, 6],\n",
            "         [6, 6, 6]],\n",
            "\n",
            "        [[6, 6, 6],\n",
            "         [6, 6, 6],\n",
            "         [6, 6, 6]]])\n",
            "tensor([6, 6, 6])\n"
          ]
        }
      ]
    },
    {
      "cell_type": "code",
      "source": [
        "# a range of numbers with equal distance\n",
        "# torch.arange(start=0, end, step=1, out=None, dtype=None, layout=torch.strided, device=None, requires_grad=False)\n",
        "print(torch.arange(2,10))\n",
        "print(torch.arange(2,10,2))"
      ],
      "metadata": {
        "colab": {
          "base_uri": "https://localhost:8080/"
        },
        "id": "hEq6YFebW94c",
        "outputId": "05e1a1dc-3a87-47a8-8ee5-91bddf742e76"
      },
      "execution_count": 9,
      "outputs": [
        {
          "output_type": "stream",
          "name": "stdout",
          "text": [
            "tensor([2, 3, 4, 5, 6, 7, 8, 9])\n",
            "tensor([2, 4, 6, 8])\n"
          ]
        }
      ]
    },
    {
      "cell_type": "code",
      "source": [
        "# uniformly divided\n",
        "# torch.linspace(start, end, steps=100, out=None, dtype=None, layout=torch.strided, device=None, requires_grad=False)\n",
        "print(torch.linspace(2,10,5))\n",
        "print(torch.linspace(2,20,5))"
      ],
      "metadata": {
        "colab": {
          "base_uri": "https://localhost:8080/"
        },
        "id": "jHI9v82HaWcR",
        "outputId": "60362afa-92a5-45c9-a70d-88fd0da1cd92"
      },
      "execution_count": 10,
      "outputs": [
        {
          "output_type": "stream",
          "name": "stdout",
          "text": [
            "tensor([ 2.,  4.,  6.,  8., 10.])\n",
            "tensor([ 2.0000,  6.5000, 11.0000, 15.5000, 20.0000])\n"
          ]
        }
      ]
    },
    {
      "cell_type": "code",
      "source": [
        "# torch.logspace(start, end, steps=100, base=10.0, out=None, dtype=None, layout=torch.strided, device=None, requires_grad=False)\n",
        "torch.logspace(2,10,6)"
      ],
      "metadata": {
        "colab": {
          "base_uri": "https://localhost:8080/"
        },
        "id": "B9BM0Mx-anYA",
        "outputId": "49e80142-1f90-4f66-b660-e9634588db7b"
      },
      "execution_count": 11,
      "outputs": [
        {
          "output_type": "execute_result",
          "data": {
            "text/plain": [
              "tensor([1.0000e+02, 3.9811e+03, 1.5849e+05, 6.3096e+06, 2.5119e+08, 1.0000e+10])"
            ]
          },
          "metadata": {},
          "execution_count": 11
        }
      ]
    },
    {
      "cell_type": "code",
      "source": [
        "# create diagonal matrix\n",
        "# torch.eye(n, m=None, out=None, dtype=None, layout=torch.strided, device=None, requires_grad=False)\n",
        "print(torch.eye(4))\n",
        "print(torch.eye(3,4))"
      ],
      "metadata": {
        "colab": {
          "base_uri": "https://localhost:8080/"
        },
        "id": "dmoF6IuMa28_",
        "outputId": "c0a0f254-b656-484e-ada1-61384b138f21"
      },
      "execution_count": 12,
      "outputs": [
        {
          "output_type": "stream",
          "name": "stdout",
          "text": [
            "tensor([[1., 0., 0., 0.],\n",
            "        [0., 1., 0., 0.],\n",
            "        [0., 0., 1., 0.],\n",
            "        [0., 0., 0., 1.]])\n",
            "tensor([[1., 0., 0., 0.],\n",
            "        [0., 1., 0., 0.],\n",
            "        [0., 0., 1., 0.]])\n"
          ]
        }
      ]
    },
    {
      "cell_type": "markdown",
      "source": [
        "### create tensor in probability"
      ],
      "metadata": {
        "id": "VTOyLQNEcxgr"
      }
    },
    {
      "cell_type": "code",
      "source": [
        "# normal distribution\n",
        "# torch.normal(mean, std, *, generator=None, out=None)\n",
        "size=(3,4)\n",
        "torch.normal(0,1,size)"
      ],
      "metadata": {
        "colab": {
          "base_uri": "https://localhost:8080/"
        },
        "id": "Nx_7pFlKcP3K",
        "outputId": "41ba320e-521f-4bcf-8e6d-ebb2876580ae"
      },
      "execution_count": 13,
      "outputs": [
        {
          "output_type": "execute_result",
          "data": {
            "text/plain": [
              "tensor([[-0.5587, -0.5065, -0.7504, -0.4256],\n",
              "        [-0.8237,  0.1191,  1.0307,  1.0900],\n",
              "        [-0.0405, -0.8348,  1.7847, -0.1077]])"
            ]
          },
          "metadata": {},
          "execution_count": 13
        }
      ]
    },
    {
      "cell_type": "code",
      "source": [
        "# standard normal distribution\n",
        "# torch.randn(*size, out=None, dtype=None, layout=torch.strided, device=None, requires_grad=False)\n",
        "size=(3,4)\n",
        "torch.randn(size)"
      ],
      "metadata": {
        "colab": {
          "base_uri": "https://localhost:8080/"
        },
        "id": "5KX2DVw_c5id",
        "outputId": "cbf82b61-4c4a-4eab-b0df-d072108860ac"
      },
      "execution_count": 14,
      "outputs": [
        {
          "output_type": "execute_result",
          "data": {
            "text/plain": [
              "tensor([[-0.0982, -0.0254, -0.5112, -0.8790],\n",
              "        [ 2.3174, -0.4678, -0.2327, -0.4854],\n",
              "        [ 1.0344, -0.0799,  2.1592, -0.0191]])"
            ]
          },
          "metadata": {},
          "execution_count": 14
        }
      ]
    },
    {
      "cell_type": "code",
      "source": [
        "# uniform distribution range(0,1)\n",
        "# torch.rand(*size, out=None, dtype=None, layout=torch.strided, device=None, requires_grad=False)\n",
        "torch.rand((3,4))"
      ],
      "metadata": {
        "colab": {
          "base_uri": "https://localhost:8080/"
        },
        "id": "8mbeelS0hzCi",
        "outputId": "d7e0faa6-947b-42c1-afcb-8e86edbe5930"
      },
      "execution_count": 15,
      "outputs": [
        {
          "output_type": "execute_result",
          "data": {
            "text/plain": [
              "tensor([[0.1486, 0.0396, 0.1683, 0.5990],\n",
              "        [0.0476, 0.0256, 0.1072, 0.3672],\n",
              "        [0.1583, 0.2624, 0.7626, 0.1541]])"
            ]
          },
          "metadata": {},
          "execution_count": 15
        }
      ]
    },
    {
      "cell_type": "code",
      "source": [
        "# random integer in a given range\n",
        "# randint(low=0, high, size, *, generator=None, out=None, dtype=None, layout=torch.strided, device=None, requires_grad=False)\n",
        "size=(3,4)\n",
        "torch.randint(0,11,size)"
      ],
      "metadata": {
        "colab": {
          "base_uri": "https://localhost:8080/"
        },
        "id": "swyxmPKGdOSJ",
        "outputId": "19d6773b-2d0d-4006-865b-b86c0e5b78b3"
      },
      "execution_count": 16,
      "outputs": [
        {
          "output_type": "execute_result",
          "data": {
            "text/plain": [
              "tensor([[ 4,  4,  8, 10],\n",
              "        [ 8,  3,  3,  9],\n",
              "        [ 6,  2,  0,  2]])"
            ]
          },
          "metadata": {},
          "execution_count": 16
        }
      ]
    },
    {
      "cell_type": "code",
      "source": [
        "# integers random permutation\n",
        "# torch.randperm(n, out=None, dtype=torch.int64, layout=torch.strided, device=None, requires_grad=False)\n",
        "torch.randperm(3)"
      ],
      "metadata": {
        "colab": {
          "base_uri": "https://localhost:8080/"
        },
        "id": "5_mZk4s5fqBs",
        "outputId": "9dbc8291-55a6-4a11-d38a-a87f6b8392dc"
      },
      "execution_count": 17,
      "outputs": [
        {
          "output_type": "execute_result",
          "data": {
            "text/plain": [
              "tensor([1, 2, 0])"
            ]
          },
          "metadata": {},
          "execution_count": 17
        }
      ]
    },
    {
      "cell_type": "code",
      "source": [
        "# bernouli distribution\n",
        "# torch.bernoulli(input, *, generator=None, out=None)\n",
        "torch.bernoulli(torch.tensor([0.3, 0.6, 0.8]))"
      ],
      "metadata": {
        "colab": {
          "base_uri": "https://localhost:8080/"
        },
        "id": "1Vn9yMTQLrbZ",
        "outputId": "a74f38b5-2842-48c1-e37d-8ec95ae57c6c"
      },
      "execution_count": 32,
      "outputs": [
        {
          "output_type": "execute_result",
          "data": {
            "text/plain": [
              "tensor([0., 1., 1.])"
            ]
          },
          "metadata": {},
          "execution_count": 32
        }
      ]
    },
    {
      "cell_type": "markdown",
      "source": [
        "## Operation"
      ],
      "metadata": {
        "id": "a11KxW-4NyWv"
      }
    },
    {
      "cell_type": "code",
      "source": [
        "# concatenate tensors\n",
        "# torch.cat(tensors, dim=0, out=None)\n",
        "a = torch.ones((3,3))\n",
        "b = torch.zeros((3,3))\n",
        "c_0 = torch.cat([a,b],dim=0)\n",
        "c_1 = torch.cat([a,b],dim=1)\n",
        "print(c_0)\n",
        "print(c_1)"
      ],
      "metadata": {
        "colab": {
          "base_uri": "https://localhost:8080/"
        },
        "id": "mN71E5V5Mixg",
        "outputId": "deec1dd3-438f-4931-9dfa-25a3c5a4928a"
      },
      "execution_count": 38,
      "outputs": [
        {
          "output_type": "stream",
          "name": "stdout",
          "text": [
            "tensor([[1., 1., 1.],\n",
            "        [1., 1., 1.],\n",
            "        [1., 1., 1.],\n",
            "        [0., 0., 0.],\n",
            "        [0., 0., 0.],\n",
            "        [0., 0., 0.]])\n",
            "tensor([[1., 1., 1., 0., 0., 0.],\n",
            "        [1., 1., 1., 0., 0., 0.],\n",
            "        [1., 1., 1., 0., 0., 0.]])\n"
          ]
        }
      ]
    },
    {
      "cell_type": "code",
      "source": [
        "# stack\n",
        "# torch.stack(tensors, dim=0, out=None)\n",
        "t=torch.ones(2,3)\n",
        "print(t)\n",
        "t_stack=torch.stack([t,t,t],dim=2)\n",
        "print(t_stack)\n",
        "t_stack=torch.stack([t,t,t],dim=0)\n",
        "print(t_stack)\n"
      ],
      "metadata": {
        "colab": {
          "base_uri": "https://localhost:8080/"
        },
        "id": "HN8otKwjSg3U",
        "outputId": "b6b1a841-b8f1-42b9-89ee-cfde872dd68f"
      },
      "execution_count": 43,
      "outputs": [
        {
          "output_type": "stream",
          "name": "stdout",
          "text": [
            "tensor([[1., 1., 1.],\n",
            "        [1., 1., 1.]])\n",
            "tensor([[[1., 1., 1.],\n",
            "         [1., 1., 1.],\n",
            "         [1., 1., 1.]],\n",
            "\n",
            "        [[1., 1., 1.],\n",
            "         [1., 1., 1.],\n",
            "         [1., 1., 1.]]])\n",
            "tensor([[[1., 1., 1.],\n",
            "         [1., 1., 1.]],\n",
            "\n",
            "        [[1., 1., 1.],\n",
            "         [1., 1., 1.]],\n",
            "\n",
            "        [[1., 1., 1.],\n",
            "         [1., 1., 1.]]])\n"
          ]
        }
      ]
    },
    {
      "cell_type": "code",
      "source": [
        "# chunk\n",
        "# torch.chunk(input, chunks, dim=0)\n",
        "a = torch.ones((2,7))\n",
        "print(a)\n",
        "list_of_tensors=torch.chunk(a,dim=1,chunks=3)\n",
        "for i, t in enumerate(list_of_tensors):\n",
        "  print(\"No.{} tensor:{}, shape is {}\".format(i+1,t,t.shape))"
      ],
      "metadata": {
        "colab": {
          "base_uri": "https://localhost:8080/"
        },
        "id": "VpM_e281USkO",
        "outputId": "2b6d2d0b-0559-404b-b974-f2d5088515a4"
      },
      "execution_count": 45,
      "outputs": [
        {
          "output_type": "stream",
          "name": "stdout",
          "text": [
            "tensor([[1., 1., 1., 1., 1., 1., 1.],\n",
            "        [1., 1., 1., 1., 1., 1., 1.]])\n",
            "the no.1 tensor:tensor([[1., 1., 1.],\n",
            "        [1., 1., 1.]]), shape is torch.Size([2, 3])\n",
            "the no.2 tensor:tensor([[1., 1., 1.],\n",
            "        [1., 1., 1.]]), shape is torch.Size([2, 3])\n",
            "the no.3 tensor:tensor([[1.],\n",
            "        [1.]]), shape is torch.Size([2, 1])\n"
          ]
        }
      ]
    },
    {
      "cell_type": "code",
      "source": [
        "# split\n",
        "# torch.split(tensor, split_size_or_sections, dim=0)\n",
        "t = torch.ones((2,5))\n",
        "list_of_tensors = torch.split(t,[2,1,2], dim=1)\n",
        "for i, t in enumerate(list_of_tensors):\n",
        "  print(\"No.{} tensor: {}, shape is {}\".format(i,t,t.shape))"
      ],
      "metadata": {
        "colab": {
          "base_uri": "https://localhost:8080/"
        },
        "id": "3S0nqx8iXJjV",
        "outputId": "0e01816c-cc24-4006-fc8c-3651e6337e8b"
      },
      "execution_count": 47,
      "outputs": [
        {
          "output_type": "stream",
          "name": "stdout",
          "text": [
            "No.0 tensor: tensor([[1., 1.],\n",
            "        [1., 1.]]), shape is torch.Size([2, 2])\n",
            "No.1 tensor: tensor([[1.],\n",
            "        [1.]]), shape is torch.Size([2, 1])\n",
            "No.2 tensor: tensor([[1., 1.],\n",
            "        [1., 1.]]), shape is torch.Size([2, 2])\n"
          ]
        }
      ]
    },
    {
      "cell_type": "code",
      "source": [
        "# select index\n",
        "# torch.index_select(input, dim, index, out=None)\n",
        "t = torch.randint(0,9,size=(3,3))\n",
        "i = torch.tensor([0,2],dtype=torch.long)\n",
        "t_select = torch.index_select(t,dim=0,index=i)\n",
        "print(\"t:\\n{}\\nt_select:\\n{}\".format(t,t_select))"
      ],
      "metadata": {
        "colab": {
          "base_uri": "https://localhost:8080/"
        },
        "id": "gzpW3iJ6YEz9",
        "outputId": "ffa3e87a-3304-4af5-d588-dfc3050d3ccd"
      },
      "execution_count": 48,
      "outputs": [
        {
          "output_type": "stream",
          "name": "stdout",
          "text": [
            "t:\n",
            "tensor([[3, 0, 0],\n",
            "        [2, 5, 4],\n",
            "        [8, 8, 4]])\n",
            "t_select:\n",
            "tensor([[3, 0, 0],\n",
            "        [8, 8, 4]])\n"
          ]
        }
      ]
    },
    {
      "cell_type": "code",
      "source": [
        "# select mask\n",
        "# torch.masked_select(input, mask, out=None)\n",
        "t = torch.randint(0,9,size=(3,3))\n",
        "mask = t.le(5)\n",
        "t_select = torch.masked_select(t,mask)\n",
        "print(\"t:\\n{}\\nmask:\\n{}\\nt_select:\\n{} \".format(t, mask, t_select))"
      ],
      "metadata": {
        "colab": {
          "base_uri": "https://localhost:8080/"
        },
        "id": "5YNIGspaZBlb",
        "outputId": "2d7caf96-5d3b-4381-e311-8a00af46ff10"
      },
      "execution_count": 49,
      "outputs": [
        {
          "output_type": "stream",
          "name": "stdout",
          "text": [
            "t:\n",
            "tensor([[8, 6, 5],\n",
            "        [5, 7, 2],\n",
            "        [2, 6, 7]])\n",
            "mask:\n",
            "tensor([[False, False,  True],\n",
            "        [ True, False,  True],\n",
            "        [ True, False, False]])\n",
            "t_select:\n",
            "tensor([5, 5, 2, 2]) \n"
          ]
        }
      ]
    },
    {
      "cell_type": "code",
      "source": [
        "# reshape\n",
        "# torch.reshape(input, shape)\n",
        "t = torch.randperm(8)\n",
        "t_reshape = torch.reshape(t,(-1,2,2))\n",
        "print(t)\n",
        "print(t_reshape)"
      ],
      "metadata": {
        "colab": {
          "base_uri": "https://localhost:8080/"
        },
        "id": "IUTodbr7azUl",
        "outputId": "012341d6-a409-47ac-ed83-5111f5a2e0fc"
      },
      "execution_count": 4,
      "outputs": [
        {
          "output_type": "stream",
          "name": "stdout",
          "text": [
            "tensor([7, 3, 6, 4, 2, 5, 0, 1])\n",
            "tensor([[[7, 3],\n",
            "         [6, 4]],\n",
            "\n",
            "        [[2, 5],\n",
            "         [0, 1]]])\n"
          ]
        }
      ]
    },
    {
      "cell_type": "code",
      "source": [
        "# transpose\n",
        "# torch.transpose(input, dim0, dim1)\n",
        "t = torch.rand(2,3,4)\n",
        "t_transpose=torch.transpose(t,dim0=1,dim1=2)\n",
        "print(t)\n",
        "print(t_transpose)"
      ],
      "metadata": {
        "colab": {
          "base_uri": "https://localhost:8080/"
        },
        "id": "yZFKdUvwhHs7",
        "outputId": "1d2db80b-4d9a-42c7-9852-1ed482f5f877"
      },
      "execution_count": 5,
      "outputs": [
        {
          "output_type": "stream",
          "name": "stdout",
          "text": [
            "tensor([[[0.2484, 0.5820, 0.3001, 0.6033],\n",
            "         [0.2139, 0.9359, 0.9355, 0.0076],\n",
            "         [0.2250, 0.7845, 0.4469, 0.8766]],\n",
            "\n",
            "        [[0.0188, 0.8267, 0.6129, 0.2870],\n",
            "         [0.8876, 0.8199, 0.6063, 0.9094],\n",
            "         [0.9289, 0.0266, 0.9344, 0.5805]]])\n",
            "tensor([[[0.2484, 0.2139, 0.2250],\n",
            "         [0.5820, 0.9359, 0.7845],\n",
            "         [0.3001, 0.9355, 0.4469],\n",
            "         [0.6033, 0.0076, 0.8766]],\n",
            "\n",
            "        [[0.0188, 0.8876, 0.9289],\n",
            "         [0.8267, 0.8199, 0.0266],\n",
            "         [0.6129, 0.6063, 0.9344],\n",
            "         [0.2870, 0.9094, 0.5805]]])\n"
          ]
        }
      ]
    },
    {
      "cell_type": "code",
      "source": [
        "# squeeze, compress the dimension with length=1\n",
        "# torch.squeeze(input, dim=None, out=None)\n",
        "t = torch.rand((1,2,3,1))\n",
        "t_sq = torch.squeeze(t)\n",
        "t_0 = torch.squeeze(t,dim=0)\n",
        "t_1 = torch.squeeze(t,dim=1)\n",
        "print(t)\n",
        "print(t_sq)\n",
        "print(t_0)\n",
        "print(t_1)"
      ],
      "metadata": {
        "colab": {
          "base_uri": "https://localhost:8080/"
        },
        "id": "G7a3VINnhuf9",
        "outputId": "387ac0ff-4af7-4a89-cb18-4716e68eb5e1"
      },
      "execution_count": 6,
      "outputs": [
        {
          "output_type": "stream",
          "name": "stdout",
          "text": [
            "tensor([[[[0.7561],\n",
            "          [0.4179],\n",
            "          [0.0930]],\n",
            "\n",
            "         [[0.2953],\n",
            "          [0.1024],\n",
            "          [0.8218]]]])\n",
            "tensor([[0.7561, 0.4179, 0.0930],\n",
            "        [0.2953, 0.1024, 0.8218]])\n",
            "tensor([[[0.7561],\n",
            "         [0.4179],\n",
            "         [0.0930]],\n",
            "\n",
            "        [[0.2953],\n",
            "         [0.1024],\n",
            "         [0.8218]]])\n",
            "tensor([[[[0.7561],\n",
            "          [0.4179],\n",
            "          [0.0930]],\n",
            "\n",
            "         [[0.2953],\n",
            "          [0.1024],\n",
            "          [0.8218]]]])\n"
          ]
        }
      ]
    },
    {
      "cell_type": "code",
      "source": [
        "# unsqueeze, extend the dimension\n",
        "# torch.unsqueeze(input, dim)"
      ],
      "metadata": {
        "id": "tL2kfapHjZh-"
      },
      "execution_count": 7,
      "outputs": []
    },
    {
      "cell_type": "markdown",
      "source": [
        "## Mathematical operation"
      ],
      "metadata": {
        "id": "YIaHoFmwkHFG"
      }
    },
    {
      "cell_type": "code",
      "source": [
        "# add\n",
        "# torch.add(input, other, out=None)\n",
        "# torch.add(input, other, *, alpha=1, out=None)\n",
        "# torch.addcdiv(input, tensor1, tensor2, *, value=1, out=None)\n",
        "# torch.addcmul(input, tensor1, tensor2, *, value=1, out=None)\n",
        "t_0=torch.tensor([1,2,3])\n",
        "t_1=torch.tensor([2,3,4])\n",
        "torch.add(t_0,t_1)"
      ],
      "metadata": {
        "colab": {
          "base_uri": "https://localhost:8080/"
        },
        "id": "WlkDpAFIkGt0",
        "outputId": "ccab01e3-c2c9-403e-c4c3-fdb445bc2fd4"
      },
      "execution_count": 9,
      "outputs": [
        {
          "output_type": "execute_result",
          "data": {
            "text/plain": [
              "tensor([3, 5, 7])"
            ]
          },
          "metadata": {},
          "execution_count": 9
        }
      ]
    },
    {
      "cell_type": "markdown",
      "source": [
        "single-value linear regression\n",
        "$$\n",
        "y=wx+b\n",
        "$$"
      ],
      "metadata": {
        "id": "qIHrqkmAnNJL"
      }
    },
    {
      "cell_type": "code",
      "source": [
        "import torch\n",
        "import matplotlib.pyplot as plt\n",
        "torch.manual_seed(10)\n",
        "\n",
        "lr = 0.05\n",
        "\n",
        "# create training data\n",
        "x = torch.rand(20, 1) * 10  # x data (tensor), shape=(20, 1)\n",
        "# noise\n",
        "y = 2*x + (5 + torch.randn(20, 1))  # y data (tensor), shape=(20, 1)\n",
        "\n",
        "# parameter\n",
        "w = torch.randn((1), requires_grad=True) \n",
        "b = torch.zeros((1), requires_grad=True) \n",
        "\n",
        "# training process\n",
        "for epoch in range(1001):\n",
        "\n",
        "    # compute prediction y\n",
        "    wx = torch.mul(w, x)\n",
        "    y_pred = torch.add(wx, b)\n",
        "\n",
        "    # compute loss MSE\n",
        "    loss = (0.5 * (y - y_pred) ** 2).mean()\n",
        "\n",
        "    # backpropagation\n",
        "    loss.backward()\n",
        "\n",
        "    # update parameter\n",
        "    b.data.sub_(lr * b.grad)\n",
        "    w.data.sub_(lr * w.grad)\n",
        "\n",
        "    # clear the gradient\n",
        "    w.grad.zero_()\n",
        "    b.grad.zero_()\n",
        "\n",
        "    # plot\n",
        "    if epoch % 100 == 0:\n",
        "\n",
        "        print(\"epoch:{} train loss:{}\".format(epoch,loss))\n",
        "\n",
        "plt.scatter(x.data.numpy(), y.data.numpy())\n",
        "plt.plot(x.data.numpy(), y_pred.data.numpy(), 'r-', lw=5)\n",
        "plt.text(2, 20, 'Loss=%.4f' % loss.data.numpy(), fontdict={'size': 20, 'color':  'red'})\n",
        "plt.xlim(1.5, 10)\n",
        "plt.ylim(8, 28)\n",
        "plt.title(\"epoch: {}\\nw: {} b: {}\".format(epoch, w.data.numpy(), b.data.numpy()))"
      ],
      "metadata": {
        "colab": {
          "base_uri": "https://localhost:8080/",
          "height": 681
        },
        "id": "h5dSbNsDmgYZ",
        "outputId": "085009a3-a729-4dee-f791-76c555f81d00"
      },
      "execution_count": 16,
      "outputs": [
        {
          "output_type": "stream",
          "name": "stdout",
          "text": [
            "epoch:0 train loss:7.164689540863037\n",
            "epoch:100 train loss:0.8787064552307129\n",
            "epoch:200 train loss:0.598065972328186\n",
            "epoch:300 train loss:0.5071331262588501\n",
            "epoch:400 train loss:0.4776690900325775\n",
            "epoch:500 train loss:0.46812230348587036\n",
            "epoch:600 train loss:0.46502891182899475\n",
            "epoch:700 train loss:0.4640267491340637\n",
            "epoch:800 train loss:0.46370187401771545\n",
            "epoch:900 train loss:0.46359652280807495\n",
            "epoch:1000 train loss:0.46356266736984253\n"
          ]
        },
        {
          "output_type": "execute_result",
          "data": {
            "text/plain": [
              "Text(0.5, 1.0, 'epoch: 1000\\nw: [2.0735748] b: [4.7864375]')"
            ]
          },
          "metadata": {},
          "execution_count": 16
        },
        {
          "output_type": "display_data",
          "data": {
            "text/plain": [
              "<Figure size 640x480 with 1 Axes>"
            ],
            "image/png": "[encoded data removed]"
          },
          "metadata": {}
        }
      ]
    },
    {
      "cell_type": "code",
      "source": [],
      "metadata": {
        "id": "qjTvgERnoL2j"
      },
      "execution_count": null,
      "outputs": []
    }
  ]
}